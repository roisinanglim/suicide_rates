{
 "cells": [
  {
   "cell_type": "markdown",
   "metadata": {},
   "source": [
    "# Introduction - Programming for Data Analysis Project 2018 \n",
    "---------------\n",
    "### About the data - WHO\n",
    "--------------------------------\n",
    "I have selected my dataset based on suicide rates in Ireland. The dataset I have chosen contains data based on the gender,year,populatio,country and number of suicides(1). The varaible I will be most interested in within my dataset is the number of suicides. \n",
    "\n",
    "Upon conducting my research, I have learnt that the gender and age group of the population are closely related to the no of suicides (2).  \n",
    "\n",
    "\n",
    "\n",
    "\n",
    "-------------------"
   ]
  },
  {
   "cell_type": "markdown",
   "metadata": {},
   "source": [
    "### 1) Read in your dataset and all packages you will need to analyse your data."
   ]
  },
  {
   "cell_type": "code",
   "execution_count": 25,
   "metadata": {},
   "outputs": [],
   "source": [
    "#Import packages\n",
    "import pandas as pd\n",
    "import numpy as np\n",
    "import seaborn as sns\n",
    "import matplotlib.pyplot as plt \n",
    "\n",
    "\n",
    "# Allow juypter to print an interactive output.(https://www.dataquest.io/blog/jupyter-notebook-tips-tricks-shortcuts/)\n",
    "from IPython.core.interactiveshell import InteractiveShell\n",
    "InteractiveShell.ast_node_interactivity = \"all\"\n",
    "# Enhance plot resolution for retina display\n",
    "\n",
    "#Read in csv file\n",
    "df = pd.read_csv(\"suiciderate.csv\")"
   ]
  },
  {
   "cell_type": "code",
   "execution_count": null,
   "metadata": {},
   "outputs": [],
   "source": []
  },
  {
   "cell_type": "markdown",
   "metadata": {},
   "source": [
    "### 2) Look at your data to ensure it is accurate and remove any incomplete or missing data"
   ]
  },
  {
   "cell_type": "code",
   "execution_count": 30,
   "metadata": {},
   "outputs": [
    {
     "data": {
      "text/html": [
       "<div>\n",
       "<style scoped>\n",
       "    .dataframe tbody tr th:only-of-type {\n",
       "        vertical-align: middle;\n",
       "    }\n",
       "\n",
       "    .dataframe tbody tr th {\n",
       "        vertical-align: top;\n",
       "    }\n",
       "\n",
       "    .dataframe thead th {\n",
       "        text-align: right;\n",
       "    }\n",
       "</style>\n",
       "<table border=\"1\" class=\"dataframe\">\n",
       "  <thead>\n",
       "    <tr style=\"text-align: right;\">\n",
       "      <th></th>\n",
       "      <th>country</th>\n",
       "      <th>year</th>\n",
       "      <th>sex</th>\n",
       "      <th>age</th>\n",
       "      <th>suicides_no</th>\n",
       "      <th>population</th>\n",
       "      <th>Unnamed: 6</th>\n",
       "    </tr>\n",
       "  </thead>\n",
       "  <tbody>\n",
       "    <tr>\n",
       "      <th>0</th>\n",
       "      <td>Albania</td>\n",
       "      <td>1905</td>\n",
       "      <td>female</td>\n",
       "      <td>15-24 years</td>\n",
       "      <td>NaN</td>\n",
       "      <td>277900.0</td>\n",
       "      <td>NaN</td>\n",
       "    </tr>\n",
       "    <tr>\n",
       "      <th>1</th>\n",
       "      <td>Albania</td>\n",
       "      <td>1905</td>\n",
       "      <td>female</td>\n",
       "      <td>25-34 years</td>\n",
       "      <td>NaN</td>\n",
       "      <td>246800.0</td>\n",
       "      <td>NaN</td>\n",
       "    </tr>\n",
       "    <tr>\n",
       "      <th>2</th>\n",
       "      <td>Albania</td>\n",
       "      <td>1905</td>\n",
       "      <td>female</td>\n",
       "      <td>35-54 years</td>\n",
       "      <td>NaN</td>\n",
       "      <td>267500.0</td>\n",
       "      <td>NaN</td>\n",
       "    </tr>\n",
       "    <tr>\n",
       "      <th>3</th>\n",
       "      <td>Albania</td>\n",
       "      <td>1905</td>\n",
       "      <td>female</td>\n",
       "      <td>5-14 years</td>\n",
       "      <td>NaN</td>\n",
       "      <td>298300.0</td>\n",
       "      <td>NaN</td>\n",
       "    </tr>\n",
       "    <tr>\n",
       "      <th>4</th>\n",
       "      <td>Albania</td>\n",
       "      <td>1905</td>\n",
       "      <td>female</td>\n",
       "      <td>55-74 years</td>\n",
       "      <td>NaN</td>\n",
       "      <td>138700.0</td>\n",
       "      <td>NaN</td>\n",
       "    </tr>\n",
       "  </tbody>\n",
       "</table>\n",
       "</div>"
      ],
      "text/plain": [
       "   country  year     sex          age  suicides_no  population Unnamed: 6\n",
       "0  Albania  1905  female  15-24 years          NaN    277900.0        NaN\n",
       "1  Albania  1905  female  25-34 years          NaN    246800.0        NaN\n",
       "2  Albania  1905  female  35-54 years          NaN    267500.0        NaN\n",
       "3  Albania  1905  female   5-14 years          NaN    298300.0        NaN\n",
       "4  Albania  1905  female  55-74 years          NaN    138700.0        NaN"
      ]
     },
     "execution_count": 30,
     "metadata": {},
     "output_type": "execute_result"
    },
    {
     "data": {
      "text/html": [
       "<div>\n",
       "<style scoped>\n",
       "    .dataframe tbody tr th:only-of-type {\n",
       "        vertical-align: middle;\n",
       "    }\n",
       "\n",
       "    .dataframe tbody tr th {\n",
       "        vertical-align: top;\n",
       "    }\n",
       "\n",
       "    .dataframe thead th {\n",
       "        text-align: right;\n",
       "    }\n",
       "</style>\n",
       "<table border=\"1\" class=\"dataframe\">\n",
       "  <thead>\n",
       "    <tr style=\"text-align: right;\">\n",
       "      <th></th>\n",
       "      <th>0</th>\n",
       "    </tr>\n",
       "  </thead>\n",
       "  <tbody>\n",
       "    <tr>\n",
       "      <th>country</th>\n",
       "      <td>object</td>\n",
       "    </tr>\n",
       "    <tr>\n",
       "      <th>year</th>\n",
       "      <td>int64</td>\n",
       "    </tr>\n",
       "    <tr>\n",
       "      <th>sex</th>\n",
       "      <td>object</td>\n",
       "    </tr>\n",
       "    <tr>\n",
       "      <th>age</th>\n",
       "      <td>object</td>\n",
       "    </tr>\n",
       "    <tr>\n",
       "      <th>suicides_no</th>\n",
       "      <td>float64</td>\n",
       "    </tr>\n",
       "    <tr>\n",
       "      <th>population</th>\n",
       "      <td>float64</td>\n",
       "    </tr>\n",
       "    <tr>\n",
       "      <th>Unnamed: 6</th>\n",
       "      <td>object</td>\n",
       "    </tr>\n",
       "  </tbody>\n",
       "</table>\n",
       "</div>"
      ],
      "text/plain": [
       "                   0\n",
       "country       object\n",
       "year           int64\n",
       "sex           object\n",
       "age           object\n",
       "suicides_no  float64\n",
       "population   float64\n",
       "Unnamed: 6    object"
      ]
     },
     "execution_count": 30,
     "metadata": {},
     "output_type": "execute_result"
    }
   ],
   "source": [
    "#Print first 5x rows of data\n",
    "df.head()\n",
    "#Remove rows where data for suicides_no is incomplete/missing\n",
    "emptyidx = pd.isnull(df)\n",
    "if np.sum(np.sum(emptyidx)) > 0:\n",
    "    data = df.dropna()\n",
    "#Print datatypes for the datatype\n",
    "types = pd.DataFrame(data.dtypes)\n",
    "types\n"
   ]
  },
  {
   "cell_type": "markdown",
   "metadata": {},
   "source": [
    "### 3) Run descriptive statisitics to get more insights about your dataset"
   ]
  },
  {
   "cell_type": "code",
   "execution_count": 32,
   "metadata": {},
   "outputs": [
    {
     "data": {
      "text/html": [
       "<div>\n",
       "<style scoped>\n",
       "    .dataframe tbody tr th:only-of-type {\n",
       "        vertical-align: middle;\n",
       "    }\n",
       "\n",
       "    .dataframe tbody tr th {\n",
       "        vertical-align: top;\n",
       "    }\n",
       "\n",
       "    .dataframe thead th {\n",
       "        text-align: right;\n",
       "    }\n",
       "</style>\n",
       "<table border=\"1\" class=\"dataframe\">\n",
       "  <thead>\n",
       "    <tr style=\"text-align: right;\">\n",
       "      <th></th>\n",
       "      <th>year</th>\n",
       "      <th>suicides_no</th>\n",
       "      <th>population</th>\n",
       "    </tr>\n",
       "  </thead>\n",
       "  <tbody>\n",
       "    <tr>\n",
       "      <th>count</th>\n",
       "      <td>432.0</td>\n",
       "      <td>432.000000</td>\n",
       "      <td>432.000000</td>\n",
       "    </tr>\n",
       "    <tr>\n",
       "      <th>mean</th>\n",
       "      <td>1905.0</td>\n",
       "      <td>32.314815</td>\n",
       "      <td>295502.976852</td>\n",
       "    </tr>\n",
       "    <tr>\n",
       "      <th>std</th>\n",
       "      <td>0.0</td>\n",
       "      <td>37.031597</td>\n",
       "      <td>125164.841038</td>\n",
       "    </tr>\n",
       "    <tr>\n",
       "      <th>min</th>\n",
       "      <td>1905.0</td>\n",
       "      <td>0.000000</td>\n",
       "      <td>52100.000000</td>\n",
       "    </tr>\n",
       "    <tr>\n",
       "      <th>25%</th>\n",
       "      <td>1905.0</td>\n",
       "      <td>4.000000</td>\n",
       "      <td>251525.000000</td>\n",
       "    </tr>\n",
       "    <tr>\n",
       "      <th>50%</th>\n",
       "      <td>1905.0</td>\n",
       "      <td>18.000000</td>\n",
       "      <td>302098.000000</td>\n",
       "    </tr>\n",
       "    <tr>\n",
       "      <th>75%</th>\n",
       "      <td>1905.0</td>\n",
       "      <td>48.250000</td>\n",
       "      <td>342225.000000</td>\n",
       "    </tr>\n",
       "    <tr>\n",
       "      <th>max</th>\n",
       "      <td>1905.0</td>\n",
       "      <td>192.000000</td>\n",
       "      <td>678830.000000</td>\n",
       "    </tr>\n",
       "  </tbody>\n",
       "</table>\n",
       "</div>"
      ],
      "text/plain": [
       "         year  suicides_no     population\n",
       "count   432.0   432.000000     432.000000\n",
       "mean   1905.0    32.314815  295502.976852\n",
       "std       0.0    37.031597  125164.841038\n",
       "min    1905.0     0.000000   52100.000000\n",
       "25%    1905.0     4.000000  251525.000000\n",
       "50%    1905.0    18.000000  302098.000000\n",
       "75%    1905.0    48.250000  342225.000000\n",
       "max    1905.0   192.000000  678830.000000"
      ]
     },
     "execution_count": 32,
     "metadata": {},
     "output_type": "execute_result"
    }
   ],
   "source": [
    "des = data.describe()\n",
    "des"
   ]
  },
  {
   "cell_type": "markdown",
   "metadata": {},
   "source": [
    "### 4) Filter your data "
   ]
  },
  {
   "cell_type": "code",
   "execution_count": 35,
   "metadata": {},
   "outputs": [
    {
     "name": "stdout",
     "output_type": "stream",
     "text": [
      "              year  suicides_no     population\n",
      "count   432.000000   432.000000     432.000000\n",
      "mean   1996.500000    32.314815  295502.976852\n",
      "std      10.400339    37.031597  125164.841038\n",
      "min    1979.000000     0.000000   52100.000000\n",
      "25%    1987.750000     4.000000  251525.000000\n",
      "50%    1996.500000    18.000000  302098.000000\n",
      "75%    2005.250000    48.250000  342225.000000\n",
      "max    2014.000000   192.000000  678830.000000\n"
     ]
    }
   ],
   "source": [
    "ireland = data['country']=='Ireland'\n",
    "x = data[ireland]\n",
    "des = x.describe()\n",
    "print(des)"
   ]
  },
  {
   "cell_type": "markdown",
   "metadata": {},
   "source": [
    "### 5) Plot your data to get more insights about your data"
   ]
  },
  {
   "cell_type": "code",
   "execution_count": 25,
   "metadata": {},
   "outputs": [
    {
     "data": {
      "text/plain": [
       "<matplotlib.axes._subplots.AxesSubplot at 0x18153df8a20>"
      ]
     },
     "execution_count": 25,
     "metadata": {},
     "output_type": "execute_result"
    },
    {
     "data": {
      "image/png": "[encoded data removed]",
      "text/plain": [
       "<Figure size 1440x1280 with 1 Axes>"
      ]
     },
     "metadata": {},
     "output_type": "display_data"
    }
   ],
   "source": [
    "#Make graph appear larger\n",
    "fig=plt.figure(figsize=(18, 16), dpi= 80, facecolor='w', edgecolor='k')\n",
    "#Plot sex,suicides and age on boxplot\n",
    "sns.boxplot(x='sex',y='suicides_no',data=x,hue='age')\n"
   ]
  },
  {
   "cell_type": "markdown",
   "metadata": {},
   "source": [
    "### 6) Determine the distribution of your data"
   ]
  },
  {
   "cell_type": "markdown",
   "metadata": {},
   "source": [
    "Discrete = Finite number of outcome \n",
    "Continuous = No limit to outcomes \n",
    "\n",
    "##### Variables Defined \n",
    "1. Sex = Binomial or poision distribution \n",
    "2. Age groups = Binomial or poision distribution\n",
    "3. Year = normal distribution  \n",
    "4. Population = normal distribution \n",
    "5. No Of Suicides\n"
   ]
  },
  {
   "cell_type": "markdown",
   "metadata": {},
   "source": [
    "7) Generate sample age data based on mean age of Irish population \n",
    "------------------------------------------------------------------\n"
   ]
  },
  {
   "cell_type": "markdown",
   "metadata": {},
   "source": [
    "### References \n",
    "1. Who suicide statistics - https://www.kaggle.com/szamil/who-suicide-statistics\n",
    "2. National Suicide Research Foundation - https://www.nsrf.ie/statistics/suicide/ \n",
    "3. The Statistics Portal - https://www.statista.com/statistics/376889/average-age-of-the-population-in-ireland/"
   ]
  },
  {
   "cell_type": "markdown",
   "metadata": {},
   "source": [
    "Generate 1000 datapoints based on age buckets as catagorised in cencus data"
   ]
  },
  {
   "cell_type": "code",
   "execution_count": 85,
   "metadata": {},
   "outputs": [
    {
     "data": {
      "text/html": [
       "<div>\n",
       "<style scoped>\n",
       "    .dataframe tbody tr th:only-of-type {\n",
       "        vertical-align: middle;\n",
       "    }\n",
       "\n",
       "    .dataframe tbody tr th {\n",
       "        vertical-align: top;\n",
       "    }\n",
       "\n",
       "    .dataframe thead th {\n",
       "        text-align: right;\n",
       "    }\n",
       "</style>\n",
       "<table border=\"1\" class=\"dataframe\">\n",
       "  <thead>\n",
       "    <tr style=\"text-align: right;\">\n",
       "      <th></th>\n",
       "      <th>0</th>\n",
       "    </tr>\n",
       "  </thead>\n",
       "  <tbody>\n",
       "    <tr>\n",
       "      <th>0</th>\n",
       "      <td>5</td>\n",
       "    </tr>\n",
       "    <tr>\n",
       "      <th>1</th>\n",
       "      <td>4</td>\n",
       "    </tr>\n",
       "    <tr>\n",
       "      <th>2</th>\n",
       "      <td>5</td>\n",
       "    </tr>\n",
       "    <tr>\n",
       "      <th>3</th>\n",
       "      <td>5</td>\n",
       "    </tr>\n",
       "    <tr>\n",
       "      <th>4</th>\n",
       "      <td>2</td>\n",
       "    </tr>\n",
       "    <tr>\n",
       "      <th>5</th>\n",
       "      <td>6</td>\n",
       "    </tr>\n",
       "    <tr>\n",
       "      <th>6</th>\n",
       "      <td>3</td>\n",
       "    </tr>\n",
       "    <tr>\n",
       "      <th>7</th>\n",
       "      <td>3</td>\n",
       "    </tr>\n",
       "    <tr>\n",
       "      <th>8</th>\n",
       "      <td>4</td>\n",
       "    </tr>\n",
       "    <tr>\n",
       "      <th>9</th>\n",
       "      <td>4</td>\n",
       "    </tr>\n",
       "  </tbody>\n",
       "</table>\n",
       "</div>"
      ],
      "text/plain": [
       "   0\n",
       "0  5\n",
       "1  4\n",
       "2  5\n",
       "3  5\n",
       "4  2\n",
       "5  6\n",
       "6  3\n",
       "7  3\n",
       "8  4\n",
       "9  4"
      ]
     },
     "execution_count": 85,
     "metadata": {},
     "output_type": "execute_result"
    }
   ],
   "source": [
    "import random\n",
    "import numpy as np\n",
    "import pandas as pd\n",
    "from IPython.core.interactiveshell import InteractiveShell\n",
    "InteractiveShell.ast_node_interactivity = \"all\"\n",
    "# Assign age buckets to list 1-5 , assign age bucket probabilities and set number of datapoints required\n",
    "age_cat ,probabilities,num_sample = [1,2,3,4,5,6],[0.12,0.16,0.31,0.15,0.20,0.06],4328\n",
    "\n",
    "#Generate random data based emperical probabilities identified in the world health organisation survey\n",
    "y =np.random.choice(age_cat,size =num_sample,p =probabilities)\n",
    "\n",
    "#Create dataframe from numpy array and display first 10 lines.\n",
    "pd.DataFrame(y).head(10) "
   ]
  },
  {
   "cell_type": "markdown",
   "metadata": {},
   "source": [
    "Generate random age data between 5 - 100, based on age buckets randomly generated"
   ]
  },
  {
   "cell_type": "code",
   "execution_count": 66,
   "metadata": {},
   "outputs": [],
   "source": [
    "import random\n",
    "import numpy as np\n",
    "#Generate random integer ages for each age category given the above calculated category size\n",
    "\n",
    "age1 = np.random.randint(5,15,len(y[y==1]))\n",
    "age2 = np.random.randint(15,25,len(y[y==2]))      \n",
    "age3 = np.random.randint(25,34,len(y[y==3]))\n",
    "age4 = np.random.randint(35,54,len(y[y==4]))\n",
    "age5 = np.random.randint(55,74,len(y[y==5]))\n",
    "age6 = np.random.randint(75,100,len(y[y==6]))  \n",
    "\n",
    "#Reshape data from a 1D array to a 2D array \n",
    "age1d = age1.reshape(age1.shape[0],-1) \n",
    "age2d = age2.reshape(age2.shape[0],-1) \n",
    "age3d = age3.reshape(age3.shape[0],-1) \n",
    "age4d = age4.reshape(age4.shape[0],-1) \n",
    "age5d = age5.reshape(age5.shape[0],-1)\n",
    "age6d = age6.reshape(age6.shape[0],-1)\n",
    "\n",
    "\n",
    "#Generate random gender for each age category given the above calculated category size\n",
    "gender,probabilites,number_sample = [\"m\",\"f\"],[0.506,0.494],len(age1)\n",
    "gender1 = np.random.choice(gender,size = number_sample, p = probabilites)\n",
    "gender,probabilites,number_sample = [\"m\",\"f\"],[0.51,0.49],len(age2)\n",
    "gender2 = np.random.choice(gender,size = number_sample, p = probabilites)\n",
    "gender,probabilites,number_sample = [\"m\",\"f\"],[0.51,0.49],len(age3)\n",
    "gender3 = np.random.choice(gender,size = number_sample, p = probabilites)\n",
    "gender,probabilites,number_sample = [\"m\",\"f\"],[0.49,0.51],len(age4)\n",
    "gender4 = np.random.choice(gender,size = number_sample, p = probabilites)\n",
    "gender,probabilites,number_sample = [\"m\",\"f\"],[0.49,0.51],len(age5)\n",
    "gender5 = np.random.choice(gender,size = number_sample, p = probabilites)\n",
    "gender,probabilites,number_sample = [\"m\",\"f\"],[0.49,0.51],len(age6)\n",
    "gender6 = np.random.choice(gender,size = number_sample, p = probabilites) \n",
    "\n",
    "#Reshape data from a 1D array to a 2D array\n",
    "\n",
    "gender1d = gender1.reshape(gender1.shape[0],-1)\n",
    "gender2d = gender2.reshape(gender2.shape[0],-1)\n",
    "gender3d = gender3.reshape(gender3.shape[0],-1)\n",
    "gender4d = gender4.reshape(gender4.shape[0],-1)\n",
    "gender5d = gender5.reshape(gender5.shape[0],-1)\n",
    "gender6d = gender6.reshape(gender6.shape[0],-1)\n",
    "\n",
    "\n",
    "#Generate suicide rates based on probability\n",
    "suicide,probabilites,number_sample = [1,0],[0.00000596,1-0.00000596],len(gender1[gender1 ==\"m\"])\n",
    "suicidie_M1 = np.random.choice(suicide,size = number_sample, p = probabilites) \n",
    "\n",
    "\n",
    "age1female =len(gender1[gender1 ==\"f\"])*0.0\n",
    "age1male =len(gender1[gender1 ==\"m\"])*0.00000596\n",
    "age2female =len(gender2[gender2 ==\"f\"])*0.00004214\n",
    "age2male=len(gender2[gender2 ==\"m\"])*0.00023540\n",
    "age3female=len(gender3[gender3 ==\"f\"])*0.00023670\n",
    "age3male=len(gender3[gender3 ==\"m\"])*0.00005745\n",
    "age4female=len(gender4[gender4 ==\"f\"])*0.00005745\n",
    "age4male=len(gender4[gender4 ==\"m\"])*0.00024409\n",
    "age5female=len(gender5[gender5 ==\"f\"])*0.00003466\n",
    "age5male=len(gender5[gender5 ==\"m\"])*0.00019215\n",
    "age6female=len(gender6[gender6 ==\"f\"])*0.00001414\n",
    "age6male=len(gender6[gender6 ==\"f\"])*0.00007749\n",
    "\n",
    "#print(gender1)\n"
   ]
  },
  {
   "cell_type": "markdown",
   "metadata": {},
   "source": [
    "Put all randomly generated data into one dataframe"
   ]
  },
  {
   "cell_type": "code",
   "execution_count": 80,
   "metadata": {},
   "outputs": [
    {
     "name": "stdout",
     "output_type": "stream",
     "text": [
      "[['13' 'm']\n",
      " ['9' 'f']\n",
      " ['10' 'f']\n",
      " ...\n",
      " ['84' 'f']\n",
      " ['93' 'f']\n",
      " ['97' 'm']]\n"
     ]
    }
   ],
   "source": [
    "con_data1 = np.concatenate([age1d,gender1d],axis=1)\n",
    "con_data2 = np.concatenate([age2d,gender2d],axis=1)\n",
    "con_data3 = np.concatenate([age3d,gender3d],axis=1)\n",
    "con_data4 = np.concatenate([age4d,gender4d],axis=1)\n",
    "con_data5 = np.concatenate([age5d,gender5d],axis=1)\n",
    "con_data6 = np.concatenate([age6d,gender6d],axis=1)\n",
    "\n",
    "full =np.concatenate([con_data1,con_data2,con_data3,con_data4,con_data5,con_data6],axis=0)\n",
    "print(full)"
   ]
  },
  {
   "cell_type": "markdown",
   "metadata": {},
   "source": [
    "Describe synthesized dataset"
   ]
  },
  {
   "cell_type": "code",
   "execution_count": 86,
   "metadata": {},
   "outputs": [
    {
     "data": {
      "text/plain": [
       "([array([ 519448.,  622595., 1263325.,  456310.,  307285.,  398647.,\n",
       "          455564.,  128576.,   92893.,   83400.]),\n",
       "  array([      0.,       0.,       0.,       0.,       0.,       0.,\n",
       "               0.,       0.,       0., 4328043.])],\n",
       " array([ 0. ,  9.3, 18.6, 27.9, 37.2, 46.5, 55.8, 65.1, 74.4, 83.7, 93. ]),\n",
       " <a list of 2 Lists of Patches objects>)"
      ]
     },
     "execution_count": 86,
     "metadata": {},
     "output_type": "execute_result"
    },
    {
     "data": {
      "text/plain": [
       "Text(0.5,0,'age')"
      ]
     },
     "execution_count": 86,
     "metadata": {},
     "output_type": "execute_result"
    },
    {
     "data": {
      "text/plain": [
       "Text(0,0.5,'population')"
      ]
     },
     "execution_count": 86,
     "metadata": {},
     "output_type": "execute_result"
    },
    {
     "data": {
      "image/png": "[encoded data removed]",
      "text/plain": [
       "<Figure size 432x288 with 1 Axes>"
      ]
     },
     "metadata": {
      "image/png": {
       "height": 263,
       "width": 416
      },
      "needs_background": "light"
     },
     "output_type": "display_data"
    }
   ],
   "source": [
    "plt.hist(full) \n",
    "plt.xlabel('age')\n",
    "plt.ylabel('population')"
   ]
  },
  {
   "cell_type": "code",
   "execution_count": null,
   "metadata": {},
   "outputs": [],
   "source": []
  },
  {
   "cell_type": "code",
   "execution_count": null,
   "metadata": {},
   "outputs": [],
   "source": []
  },
  {
   "cell_type": "code",
   "execution_count": null,
   "metadata": {},
   "outputs": [],
   "source": []
  }
 ],
 "metadata": {
  "kernelspec": {
   "display_name": "Python 3",
   "language": "python",
   "name": "python3"
  },
  "language_info": {
   "codemirror_mode": {
    "name": "ipython",
    "version": 3
   },
   "file_extension": ".py",
   "mimetype": "text/x-python",
   "name": "python",
   "nbconvert_exporter": "python",
   "pygments_lexer": "ipython3",
   "version": "3.7.0"
  }
 },
 "nbformat": 4,
 "nbformat_minor": 2
}
